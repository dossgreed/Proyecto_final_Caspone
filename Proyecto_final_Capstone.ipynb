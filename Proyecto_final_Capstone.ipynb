{
  "nbformat": 4,
  "nbformat_minor": 0,
  "metadata": {
    "colab": {
      "name": "Proyecto_final_Caspone.ipynb",
      "provenance": [],
      "collapsed_sections": []
    },
    "kernelspec": {
      "name": "python3",
      "display_name": "Python 3"
    },
    "language_info": {
      "name": "python"
    }
  },
  "cells": [
    {
      "cell_type": "markdown",
      "source": [
        "#Proyecto Final\n",
        "\n",
        "En este cuaderno se encuentra el proyecto final"
      ],
      "metadata": {
        "id": "PoANV-HMNfqv"
      }
    },
    {
      "cell_type": "code",
      "source": [
        "import numpy as np\n",
        "import pandas as pd"
      ],
      "metadata": {
        "id": "z6w0Zc6pNR4H"
      },
      "execution_count": 4,
      "outputs": []
    },
    {
      "cell_type": "code",
      "execution_count": 5,
      "metadata": {
        "colab": {
          "base_uri": "https://localhost:8080/"
        },
        "id": "8B3wQcCeMizq",
        "outputId": "ccc718a8-cd4a-420b-f353-42e7cf8de647"
      },
      "outputs": [
        {
          "output_type": "stream",
          "name": "stdout",
          "text": [
            " ¡Hola, Proyecto Final del Curso!\n"
          ]
        }
      ],
      "source": [
        "print(\" ¡Hola, Proyecto Final del Curso!\")"
      ]
    },
    {
      "cell_type": "code",
      "source": [
        ""
      ],
      "metadata": {
        "id": "ead1EhxbMw4J"
      },
      "execution_count": null,
      "outputs": []
    }
  ]
}